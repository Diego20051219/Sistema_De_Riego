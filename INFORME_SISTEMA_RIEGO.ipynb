{
  "nbformat": 4,
  "nbformat_minor": 0,
  "metadata": {
    "colab": {
      "provenance": [],
      "authorship_tag": "ABX9TyP1vsE2DqjqcXMhhQi//LWe",
      "include_colab_link": true
    },
    "kernelspec": {
      "name": "python3",
      "display_name": "Python 3"
    },
    "language_info": {
      "name": "python"
    }
  },
  "cells": [
    {
      "cell_type": "markdown",
      "metadata": {
        "id": "view-in-github",
        "colab_type": "text"
      },
      "source": [
        "<a href=\"https://colab.research.google.com/github/Diego20051219/Sistema_De_Riego/blob/main/INFORME_SISTEMA_RIEGO.ipynb\" target=\"_parent\"><img src=\"https://colab.research.google.com/assets/colab-badge.svg\" alt=\"Open In Colab\"/></a>"
      ]
    },
    {
      "cell_type": "markdown",
      "source": [
        "#**PROYECTO SISTEMA DE RIEGO**#\n",
        "\n",
        "**INTEGRANTES:**\n",
        "\n",
        "**DIEGO ANDRES MIRANDA FERNANDEZ,**\n",
        "**ALVARO JOSE HERNANDEZ MARMOL,**\n",
        "**BRUSS ANDRES CORREA ROQUEME,**\n",
        "**JOSETH RODRIGUEZ CARDALES**\n",
        "<br>\n",
        "<br>\n",
        "**FUNDAMENTOS DE PROGRAMACION**\n",
        "<br>\n",
        "<br>\n",
        "**INGENIERIA ELECTRONICA**\n",
        "<br>\n",
        "<br>\n",
        "**UNIVERSIDAD PONTIFICIA BOLIVARIANA**\n",
        "<br>\n",
        "<br>\n",
        "**MONTERIA**\n",
        "<br>\n",
        "<br>\n",
        "**2024**\n"
      ],
      "metadata": {
        "id": "_SPr9__J0_7P"
      }
    },
    {
      "cell_type": "markdown",
      "source": [
        "#**SISTESIS**#\n",
        "Hoy en día, a muchas personas se les hace difícil estar pendientes de las plantas que tienen en su hogar debido a sus ocupaciones diarias. Como resultado, no siempre pueden regarlas a diario, y si las plantas no reciben agua regularmente, pueden morir.\n",
        "**¿Qué podemos hacer al respecto?**\n",
        "Un sistema de riego automático que monitorea la humedad del suelo. Este sistema consta de una placa programable y varios sensores que permiten monitorear la humedad de la tierra. A través de operaciones automáticas, el sistema mantiene la planta bien regada, evitando que muera por falta de agua."
      ],
      "metadata": {
        "id": "UIT0GdAp4ANl"
      }
    },
    {
      "cell_type": "markdown",
      "source": [
        "#**ANALISIS**#\n",
        "**PROBLEMA**: Desarrollar un Sistema de riego Automatico que riegue una planta cuando la humedad de tierra sea baja y monitorear la cantidad de agua que hay en un dicho tanque y alertar al usuario cuando este en condicones criticas.\n",
        "<br>\n",
        "<br>\n",
        "**DETALLES:** El sistema de riego automático funciona de la siguiente manera, cuando detecta que la humedad del suelo es baja y que el nivel de agua en el tanque es suficiente, activa el riego de la planta. Si no se cumplen estas condiciones, se activará una alarma para avisar al usuario de que el tanque no tiene agua suficiente. Dentro del tanque hay un motor de agua que se activa cuando ambas condiciones (humedad baja y nivel de agua alto) se cumplen. Además, un relé actúa como interruptor para controlar la bomba de agua. Este diseño asegura que las plantas se mantengan regadas adecuadamente y que el usuario sea notificado si falta agua en el tanque. La planta que utlizaremos se llama potus es una planta que requiere poca cantidad (50ml x Dia) lo que nos serviria como prueba para mirar cuanto dias demora el agua en el tanque de (6.623 ml). Utlizaremos un modulo bluetooth para enviar los datos a otro disposivo para guardar los datos de la humedad y la cantidad de agua en n archivo y asi mostrar resultados.\n",
        "<br>\n",
        "<br>\n",
        "**COMPONENTES**\n",
        "*  Sensor de Humedad del Suelo\n",
        "*  Sensor Ultrasonico (Medira el nivel de Agua)\n",
        "*  Fuente De Poder (Fabricada en clase)\n",
        "*  Motobomba\n",
        "*  Microcontrolador (Arduino UNO)\n",
        "*  Tres LEDS Indicadores (Verde,Amarillo,Rojo)\n",
        "*  Rele\n",
        "*  Buzzer\n",
        "*  Modulo Bluetooth\n",
        "*  Interrutor\n",
        "*  Baquela PCB\n",
        "<br>\n",
        "\n",
        "**Requisistos Funcionamiento:**\n",
        "* La Humedad  y el nivel se debe leer constantemente para un funcionamiento eficiente.\n",
        "* Cuando la humedad sea baja y el nivel sea alto o medio activar la bomba y Regar la planta.\n",
        "* Cuando el nivel de agua este en su nivel critico activa el buzzer y si detecta que no hay humedad que no active la bomba para evitar daños.\n",
        "* Cada 60 mn envie los datos al dispositivo que esta conectado Actualmente.\n",
        "* leds se activaran dependiendo del nivel si es alto (**Verde**) si es medio (**Amarillo**) si es bajo (**Rojo**).\n"
      ],
      "metadata": {
        "id": "ycjWEqiy_fJI"
      }
    }
  ]
}