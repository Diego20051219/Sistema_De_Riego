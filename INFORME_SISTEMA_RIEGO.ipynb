{
  "nbformat": 4,
  "nbformat_minor": 0,
  "metadata": {
    "colab": {
      "provenance": [],
      "authorship_tag": "ABX9TyN843PEE7BBbQxi0/KbBcfU",
      "include_colab_link": true
    },
    "kernelspec": {
      "name": "python3",
      "display_name": "Python 3"
    },
    "language_info": {
      "name": "python"
    }
  },
  "cells": [
    {
      "cell_type": "markdown",
      "metadata": {
        "id": "view-in-github",
        "colab_type": "text"
      },
      "source": [
        "<a href=\"https://colab.research.google.com/github/Diego20051219/Sistema_De_Riego/blob/main/INFORME_SISTEMA_RIEGO.ipynb\" target=\"_parent\"><img src=\"https://colab.research.google.com/assets/colab-badge.svg\" alt=\"Open In Colab\"/></a>"
      ]
    },
    {
      "cell_type": "code",
      "execution_count": null,
      "metadata": {
        "id": "Hetv7twsdvVO"
      },
      "outputs": [],
      "source": [
        "distancia = float(input(\"ingrese la distacia del vuelo: \"))\n",
        "tarifa = float(input(\"ingrese la tarifa por kilometro: \"))\n",
        "dias =  int(input(\"ingrese los dias de estacia: \"))\n",
        "if dias > 7 :\n",
        "  if distancia > 800 :\n",
        "    descuento = tarifa * 0.3\n",
        "    descuento = descuento -tarifa\n",
        "    tarifa = tarifa - descuento\n",
        "    precio = (2*distancia) * tarifa\n",
        "    print(f\"el precio del vuelo es de {precio}\")\n",
        "else:\n",
        "  precio = (2*distancia)* tarifa\n",
        "  print(f\"el precio del vuelo es de {precio}\")\n"
      ]
    }
  ]
}