{
  "nbformat": 4,
  "nbformat_minor": 0,
  "metadata": {
    "colab": {
      "provenance": [],
      "authorship_tag": "ABX9TyP5gVGSTT0DlJDsjx1hjHFJ",
      "include_colab_link": true
    },
    "kernelspec": {
      "name": "python3",
      "display_name": "Python 3"
    },
    "language_info": {
      "name": "python"
    }
  },
  "cells": [
    {
      "cell_type": "markdown",
      "metadata": {
        "id": "view-in-github",
        "colab_type": "text"
      },
      "source": [
        "<a href=\"https://colab.research.google.com/github/Diego20051219/Sistema_De_Riego/blob/main/INFORME_SISTEMA_RIEGO.ipynb\" target=\"_parent\"><img src=\"https://colab.research.google.com/assets/colab-badge.svg\" alt=\"Open In Colab\"/></a>"
      ]
    },
    {
      "cell_type": "markdown",
      "source": [
        "#**PROYECTO SISTEMA DE RIEGO**\n",
        "\n",
        "**INTEGRANTES:**\n",
        "\n",
        "**DIEGO ANDRES MIRANDA FERNANDEZ,**\n",
        "**ALVARO JOSE HERNANDEZ MARMOL,**\n",
        "**BRUSS ANDRES CORREA ROQUEME,**\n",
        "**JOSETH RODRIGUEZ CARDALES**\n",
        "<br>\n",
        "<br>\n",
        "**FUNDAMENTOS DE PROGRAMACION**\n",
        "<br>\n",
        "<br>\n",
        "**INGENIERIA ELECTRONICA**\n",
        "<br>\n",
        "<br>\n",
        "**UNIVERSIDAD PONTIFICIA BOLIVARIANA**\n",
        "<br>\n",
        "<br>\n",
        "**MONTERIA**\n",
        "<br>\n",
        "<br>\n",
        "**2024**\n"
      ],
      "metadata": {
        "id": "_SPr9__J0_7P"
      }
    },
    {
      "cell_type": "markdown",
      "source": [
        "#**SISTESIS**\n",
        "Hoy en día, a muchas personas se les hace difícil estar pendientes de las plantas que tienen en su hogar debido a sus ocupaciones diarias. Como resultado, no siempre pueden regarlas a diario, y si las plantas no reciben agua regularmente, pueden morir.\n",
        "**¿Qué podemos hacer al respecto?**\n",
        "Un sistema de riego automático que monitorea la humedad del suelo. Este sistema consta de una placa programable y varios sensores que permiten monitorear la humedad de la tierra. A través de operaciones automáticas, el sistema mantiene la planta bien regada, evitando que muera por falta de agua."
      ],
      "metadata": {
        "id": "UIT0GdAp4ANl"
      }
    },
    {
      "cell_type": "markdown",
      "source": [
        "#**ANALISIS**\n",
        "**PROBLEMA**: Desarrollar un Sistema de riego Automatico que riegue una planta cuando la humedad de tierra sea baja y monitorear la cantidad de agua que hay en un dicho tanque y alertar al usuario cuando este en condicones criticas.\n",
        "<br>\n",
        "<br>\n",
        "**DETALLES:** El sistema de riego automático funciona de la siguiente manera, cuando detecta que la humedad del suelo es baja y que el nivel de agua en el tanque es suficiente, activa el riego para la planta. Si no se cumplen estas condiciones, se activará una alarma para avisar al usuario de que el tanque no tiene agua suficiente. Dentro del tanque hay un motor de agua que se activa cuando ambas condiciones (humedad baja y nivel de agua alto) se cumplen. Además, un relé actúa como interruptor para controlar la bomba de agua. Este diseño asegura que las plantas se mantengan regadas adecuadamente y que el usuario sea notificado si falta agua en el tanque. La planta que utlizaremos se llama potus es una planta que requiere poca cantidad (50ml x Dia) lo que nos serviria como prueba para mirar cuanto dias demora el agua en el tanque de (6.623 ml). Tendremos 3 leds de color Verde, Amarillo y Rojo los cuales nos indicaran el nivel del agua verde significa que esta Lleno, el amarillo indica que esta medio y el rojo indica que esta vacio. Utlizaremos un modulo bluetooth para enviar los datos a otro disposivo para guardar los datos de la humedad y la cantidad de agua en n archivo y asi mostrar resultados.\n",
        "<br>\n",
        "<br>\n",
        "**COMPONENTES**\n",
        "*  Sensor de Humedad del Suelo\n",
        "*  Sensor Ultrasonico (Medira el nivel de Agua)\n",
        "*  Fuente De Poder (Fabricada en clase)\n",
        "*  Motobomba\n",
        "*  Microcontrolador (Arduino UNO)\n",
        "*  Tres LEDS Indicadores (Verde, Amarillo, Rojo)\n",
        "*  Rele\n",
        "*  Buzzer\n",
        "*  Modulo Bluetooth\n",
        "*  Interrutor\n",
        "*  Baquela PCB\n",
        "<br>\n",
        "\n",
        "**Requisistos Funcionamiento:**\n",
        "* La Humedad  y el nivel se debe leer constantemente para un funcionamiento eficiente.\n",
        "* Cuando la humedad sea baja y el nivel sea alto o medio activar la bomba y Regar la planta.\n",
        "* Cuando el nivel de agua este en su nivel critico activa el buzzer y si detecta que no hay humedad que no active la bomba para evitar daños.\n",
        "* Cada 60 mn envie los datos al dispositivo que esta conectado Actualmente.\n",
        "* leds se activaran dependiendo del nivel si es alto (**Verde**) si es medio (**Amarillo**) si es bajo (**Rojo**).\n",
        "<br>\n",
        "\n",
        "**Proceso de Ejecucion:**\n",
        "<br>\n",
        "\n",
        "**1. Entrada(s):**\n",
        "* La variable (humedad) es para medir la humedad del suelo.\n",
        "* La variable (NivelAgua) es para medir el nivel del agua.\n",
        "<br>\n",
        "\n",
        "**2. Proceso(s):**\n",
        "* Hacer comparaciones de las medidas definidas.\n",
        "* Activar/Desactivar la bomba segun las condiciones definidas.\n",
        "* Encender/Apagar los leds segun las condiciones definidas.\n",
        "* Activar/Desactivar el buzzer segun las condiciones definidas.\n",
        "* Enviar los datos de las medidas cada 30mn atravez del modulo Bluetooth.\n",
        "<br>\n",
        "\n",
        "**3. Salidas(s):**\n",
        "* Activacion/Desactivacion de la bomba.\n",
        "* Activacion/Desactivacion del buzzer.\n",
        "* Activacion/Desactivacion de los leds.\n",
        "* Enviar los datos.\n",
        "<br>\n",
        "\n",
        "**Otras Variables:**\n",
        "* La (Duracion) la utizamos para calcular la distancia que hay en el tanquey de alli pasa a la variable NivelAgua.\n",
        "<br>\n",
        "\n",
        "**Liberias:**\n",
        "* Utlizaremos <SoftwareSerial.h> para conectarnos con el modulo bluetooth y asi enviar los datos a otro dispositivo.\n",
        "<br>\n",
        "\n",
        "**Observaciones:**\n",
        "* Que los componentes a utilizar sean compatibles con el Microcontrolador.\n",
        "* Utlizar un Lenguaje de programacion compatible con el Microcontrolador.\n",
        "* Hacer las conexiones en plataformas virtuales para probar y verificar que nuestro proyecto funcione en la vida real.\n",
        "* No superar el prosupuesto indicado 200.000 COP.\n",
        "\n",
        "\n",
        "\n",
        "\n",
        "\n"
      ],
      "metadata": {
        "id": "ycjWEqiy_fJI"
      }
    },
    {
      "cell_type": "markdown",
      "source": [
        "#**DESARROLLO DEL ALGORITMO**\n",
        "\n",
        "**Deficion de Conexion:**\n",
        "* SoftwareSerial BTSerial(2, 3);\n",
        "* int trig = 4;\n",
        "* int echo = 5;\n",
        "* int buzzer = 6;\n",
        "* long duracion;\n",
        "* long NivelAgua;\n",
        "* int bomba = 7;\n",
        "* int humedad = A0;\n",
        "* int led_verde = 8;\n",
        "* int led_amarillo = 9;\n",
        "* int led_rojo = 10;\n",
        "\n",
        "En Arduino es importante definir el pin de conexion de cada uno de los componentes que utilizemos. Tambien definimos una varible que es duracion se utiliza para hacer los calculos para obtener el NivelAgua."
      ],
      "metadata": {
        "id": "V7K0CVOXE9up"
      }
    }
  ]
}